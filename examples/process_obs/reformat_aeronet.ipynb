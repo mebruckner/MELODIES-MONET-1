{
 "cells": [
  {
   "cell_type": "markdown",
   "id": "8dd6f233",
   "metadata": {},
   "source": [
    "## MELODIES MONET AERONET prep notebook\n",
    "\n",
    "### How to use\n",
    "\n",
    "- In order to run this notebook, please install pytspack into your conda environment \n",
    "    - To do this on the NOAA Hera system, first load gnu (module load gnu) and second install pytspack via pip (pip install --no-deps https://github.com/noaa-oar-arl/pytspack/archive/master.zip)\n",
    "    - Other linux machines may require specifying a C compiler when you install pytspack via pip (OPT='-std=c99' pip install https://github.com/noaa-oar-arl/pytspack/archive/master.zip --no-deps)\n",
    "    - If neither of these options work, consult the following README: https://github.com/noaa-oar-arl/pytspack/blob/master/README.md\n",
    "- Start notebook and \n",
    "    - in cell 2 set the start date and end date\n",
    "    - in cell 2 set the filename output (something like AERONET_L15_STARTDATE_ENDDATE.nc with STARTDATE and ENDDATE in YYYYMMDD format)"
   ]
  },
  {
   "cell_type": "code",
   "execution_count": 10,
   "id": "frequent-yukon",
   "metadata": {},
   "outputs": [],
   "source": [
    "import monetio as mio\n",
    "import numpy as np\n",
    "import pandas as pd\n",
    "import xarray as xr\n",
    "from melodies_monet.util import write_util\n",
    "import os"
   ]
  },
  {
   "cell_type": "code",
   "execution_count": 11,
   "id": "driven-shooting",
   "metadata": {},
   "outputs": [
    {
     "name": "stdout",
     "output_type": "stream",
     "text": [
      "Reading Aeronet Data...\n"
     ]
    },
    {
     "name": "stderr",
     "output_type": "stream",
     "text": [
      "/ships19/aqda/mbruckner/monetio/monetio/obs/aeronet.py:501: UserWarning: Renaming duplicate AOD columns ['aod_340nm', 'aod_440nm'] by adding suffix '_orig'.\n",
      "  self.calc_new_aod_values()\n"
     ]
    }
   ],
   "source": [
    "# set the dates\n",
    "### for some reason the 7th of august 2019 has an error reading in the parallel version.  \n",
    "# Not sure why but some of the dtypes are different when processing in parallel vs serial.  \n",
    "# Here we will use the serial version just to make it easy for everyone to understand.        \n",
    "### For faster processing in other periods add the `n_procs=n` kwarg where n is the number of processes\n",
    "dates = pd.date_range(start='2019-07-01',end='2019-07-31',freq='H')\n",
    "# set the output filename\n",
    "outname = 'AERONET_L15_20190701_20190731.nc'\n",
    "# set standard wavelengths\n",
    "standard_wavelengths = np.array([0.34, 0.44, 0.55, 0.66, 0.86, 1.63, 11.1])* 1000. # convert from micron to nm \n",
    "# get the data \n",
    "df = mio.aeronet.add_data(dates, interp_to_aod_values=standard_wavelengths, freq='H') # ,n_procs=12)"
   ]
  },
  {
   "cell_type": "code",
   "execution_count": 12,
   "id": "voluntary-pillow",
   "metadata": {},
   "outputs": [],
   "source": [
    "# dfp = df.rename({'siteid':'x'},axis=1).set_index(['time','x']).drop_duplicates()\n",
    "# df = df3 \n",
    "verbose=False\n",
    "dfp = df.rename({'siteid':'x'},axis=1).set_index(['time','x'])\n",
    "columns = dfp.columns.to_list()\n",
    "columns2 = []\n",
    "remove_columns = []\n",
    "for i in np.arange(len(columns)):\n",
    "    columns2.append(columns[i])\n",
    "    try:\n",
    "        dfp[columns2].to_xarray()\n",
    "        if verbose:\n",
    "            print('COLUMN SUCCESS:',columns[i])\n",
    "    except:\n",
    "        if verbose:\n",
    "            print('COLUMN FAILURE:',columns[i])\n",
    "        remove_columns.append(columns[i])\n",
    "        columns2.remove(columns[i])\n",
    "if verbose:\n",
    "    print(columns2)\n",
    "dft = df.drop(remove_columns,axis=1)\n",
    "dfp = dfp.drop(remove_columns,axis=1).dropna(subset=['latitude','longitude'])\n",
    "dfx = dfp.to_xarray()"
   ]
  },
  {
   "cell_type": "code",
   "execution_count": 13,
   "id": "5830abf0-74c2-4b7f-9b10-9639cd4062b7",
   "metadata": {},
   "outputs": [],
   "source": [
    "sites_of_interest = np.array(['Amity_Univ_Gurgaon', 'Bidur', 'DEWA_ResearchCentre', 'Dushanbe',\n",
    "       'Gandhi_College', 'Kanpur', 'Kyanjin_Gompa', 'Langtang_BC',\n",
    "       'Lumbini_North', 'Mandalay_MTU', 'NAM_CO', 'Pokhara', 'QOMS_CAS',\n",
    "       'Shagaya_Park', 'Tomsk', 'Yekaterinburg'])"
   ]
  },
  {
   "cell_type": "code",
   "execution_count": 14,
   "id": "successful-combine",
   "metadata": {},
   "outputs": [],
   "source": [
    "dsets = []\n",
    "#for s in df.siteid.unique():\n",
    "for s in sites_of_interest:\n",
    "    if dft.loc[df.siteid == s].set_index(['time']).to_xarray().dims['time'] !=0:\n",
    "        dsets.append(dft.loc[df.siteid == s].set_index(['time']).to_xarray())"
   ]
  },
  {
   "cell_type": "code",
   "execution_count": 15,
   "id": "0e954f7c-31bb-4f17-a6ec-b42a86435402",
   "metadata": {},
   "outputs": [],
   "source": [
    "# now site_variable are the single element attributes of the individual site so lets simplify this\n",
    "\n",
    "from numpy import unique\n",
    "site_variable = ['siteid','latitude','longitude','aeronet_instrument_number','elevation']\n",
    "\n",
    "def expand_dims(ds, index=0):\n",
    "    # first set a new index for the siteid\n",
    "    ds['x'] = index\n",
    "    ds = ds.expand_dims(['x'])\n",
    "    ds = ds.set_coords(['x'])\n",
    "    # now reduce the site variables to single element variables \n",
    "    for sv in site_variable:\n",
    "        tmp = [unique(ds[sv])[0]]\n",
    "        ds[sv] = (('x',), tmp)\n",
    "    return ds"
   ]
  },
  {
   "cell_type": "code",
   "execution_count": 16,
   "id": "98bb15b2-ac56-4676-91b0-abda0e1e4b3e",
   "metadata": {},
   "outputs": [],
   "source": [
    "# now site_variable are the single element attributes of the individual site so lets simplify this\n",
    "for index,d in enumerate(dsets):\n",
    "    dsets[index] = expand_dims(d,index=index)"
   ]
  },
  {
   "cell_type": "code",
   "execution_count": 17,
   "id": "ae366181-6258-4aac-8520-f234271328f1",
   "metadata": {},
   "outputs": [
    {
     "data": {
      "text/plain": [
       "<function posixpath.join(a, *p)>"
      ]
     },
     "execution_count": 17,
     "metadata": {},
     "output_type": "execute_result"
    }
   ],
   "source": [
    "# now combine all the datasets for each site into a single dataset\n",
    "ds = xr.concat(dsets,dim='x').set_coords(site_variable)\n",
    "# ds\n",
    "os.path.join"
   ]
  },
  {
   "cell_type": "code",
   "execution_count": 19,
   "id": "wrong-usage",
   "metadata": {},
   "outputs": [
    {
     "name": "stdout",
     "output_type": "stream",
     "text": [
      "Writing: AERONET_L15_20190701_20190731.nc\n",
      "Compressing: day_of_year, original_dtype: float64\n",
      "Compressing: day_of_year(fraction), original_dtype: float64\n",
      "Compressing: aod_1640nm, original_dtype: float64\n",
      "Compressing: aod_1020nm, original_dtype: float64\n",
      "Compressing: aod_870nm, original_dtype: float64\n",
      "Compressing: aod_865nm, original_dtype: float64\n",
      "Compressing: aod_779nm, original_dtype: float64\n",
      "Compressing: aod_675nm, original_dtype: float64\n",
      "Compressing: aod_667nm, original_dtype: float64\n",
      "Compressing: aod_620nm, original_dtype: float64\n",
      "Compressing: aod_560nm, original_dtype: float64\n",
      "Compressing: aod_555nm, original_dtype: float64\n",
      "Compressing: aod_551nm, original_dtype: float64\n",
      "Compressing: aod_532nm, original_dtype: float64\n",
      "Compressing: aod_510nm, original_dtype: float64\n",
      "Compressing: aod_500nm, original_dtype: float64\n",
      "Compressing: aod_490nm, original_dtype: float64\n",
      "Compressing: aod_443nm, original_dtype: float64\n",
      "Compressing: aod_440nm_orig, original_dtype: float64\n",
      "Compressing: aod_412nm, original_dtype: float64\n",
      "Compressing: aod_400nm, original_dtype: float64\n",
      "Compressing: aod_380nm, original_dtype: float64\n",
      "Compressing: aod_340nm_orig, original_dtype: float64\n",
      "Compressing: precipitable_water(cm), original_dtype: float64\n",
      "Compressing: aod_681nm, original_dtype: float64\n",
      "Compressing: aod_709nm, original_dtype: float64\n",
      "Compressing: triplet_variability_1640, original_dtype: float64\n",
      "Compressing: triplet_variability_1020, original_dtype: float64\n",
      "Compressing: triplet_variability_870, original_dtype: float64\n",
      "Compressing: triplet_variability_865, original_dtype: float64\n",
      "Compressing: triplet_variability_779, original_dtype: float64\n",
      "Compressing: triplet_variability_675, original_dtype: float64\n",
      "Compressing: triplet_variability_667, original_dtype: float64\n",
      "Compressing: triplet_variability_620, original_dtype: float64\n",
      "Compressing: triplet_variability_560, original_dtype: float64\n",
      "Compressing: triplet_variability_555, original_dtype: float64\n",
      "Compressing: triplet_variability_551, original_dtype: float64\n",
      "Compressing: triplet_variability_532, original_dtype: float64\n",
      "Compressing: triplet_variability_510, original_dtype: float64\n",
      "Compressing: triplet_variability_500, original_dtype: float64\n",
      "Compressing: triplet_variability_490, original_dtype: float64\n",
      "Compressing: triplet_variability_443, original_dtype: float64\n",
      "Compressing: triplet_variability_440, original_dtype: float64\n",
      "Compressing: triplet_variability_412, original_dtype: float64\n",
      "Compressing: triplet_variability_400, original_dtype: float64\n",
      "Compressing: triplet_variability_380, original_dtype: float64\n",
      "Compressing: triplet_variability_340, original_dtype: float64\n",
      "Compressing: triplet_variability_precipitable_water(cm), original_dtype: float64\n",
      "Compressing: triplet_variability_681, original_dtype: float64\n",
      "Compressing: triplet_variability_709, original_dtype: float64\n",
      "Compressing: 440-870_angstrom_exponent, original_dtype: float64\n",
      "Compressing: 380-500_angstrom_exponent, original_dtype: float64\n",
      "Compressing: 440-675_angstrom_exponent, original_dtype: float64\n",
      "Compressing: 500-870_angstrom_exponent, original_dtype: float64\n",
      "Compressing: 340-440_angstrom_exponent, original_dtype: float64\n",
      "Compressing: 440-675_angstrom_exponent[polar], original_dtype: float64\n",
      "Compressing: solar_zenith_angle(degrees), original_dtype: float64\n",
      "Compressing: optical_air_mass, original_dtype: float64\n",
      "Compressing: sensor_temperature(degrees_c), original_dtype: float64\n",
      "Compressing: ozone(dobson), original_dtype: float64\n",
      "Compressing: no2(dobson), original_dtype: float64\n",
      "Compressing: number_of_wavelengths, original_dtype: float64\n",
      "Compressing: exact_wavelengths_of_aod(um)_1640nm, original_dtype: float64\n",
      "Compressing: exact_wavelengths_of_aod(um)_1020nm, original_dtype: float64\n",
      "Compressing: exact_wavelengths_of_aod(um)_870nm, original_dtype: float64\n",
      "Compressing: exact_wavelengths_of_aod(um)_865nm, original_dtype: float64\n",
      "Compressing: exact_wavelengths_of_aod(um)_779nm, original_dtype: float64\n",
      "Compressing: exact_wavelengths_of_aod(um)_675nm, original_dtype: float64\n",
      "Compressing: exact_wavelengths_of_aod(um)_667nm, original_dtype: float64\n",
      "Compressing: exact_wavelengths_of_aod(um)_620nm, original_dtype: float64\n",
      "Compressing: exact_wavelengths_of_aod(um)_560nm, original_dtype: float64\n",
      "Compressing: exact_wavelengths_of_aod(um)_555nm, original_dtype: float64\n",
      "Compressing: exact_wavelengths_of_aod(um)_551nm, original_dtype: float64\n",
      "Compressing: exact_wavelengths_of_aod(um)_532nm, original_dtype: float64\n",
      "Compressing: exact_wavelengths_of_aod(um)_510nm, original_dtype: float64\n",
      "Compressing: exact_wavelengths_of_aod(um)_500nm, original_dtype: float64\n",
      "Compressing: exact_wavelengths_of_aod(um)_490nm, original_dtype: float64\n",
      "Compressing: exact_wavelengths_of_aod(um)_443nm, original_dtype: float64\n",
      "Compressing: exact_wavelengths_of_aod(um)_440nm_orig, original_dtype: float64\n",
      "Compressing: exact_wavelengths_of_aod(um)_412nm, original_dtype: float64\n",
      "Compressing: exact_wavelengths_of_aod(um)_400nm, original_dtype: float64\n",
      "Compressing: exact_wavelengths_of_aod(um)_380nm, original_dtype: float64\n",
      "Compressing: exact_wavelengths_of_aod(um)_340nm_orig, original_dtype: float64\n",
      "Compressing: exact_wavelengths_of_pw(um)_935nm, original_dtype: float64\n",
      "Compressing: exact_wavelengths_of_aod(um)_681nm, original_dtype: float64\n",
      "Compressing: exact_wavelengths_of_aod(um)_709nm, original_dtype: float64\n",
      "Compressing: aod_340nm, original_dtype: float64\n",
      "Compressing: aod_440nm, original_dtype: float64\n",
      "Compressing: aod_550nm, original_dtype: float64\n",
      "Compressing: aod_660nm, original_dtype: float64\n",
      "Compressing: aod_860nm, original_dtype: float64\n",
      "Compressing: aod_1630nm, original_dtype: float64\n",
      "Compressing: aod_11100nm, original_dtype: float64\n"
     ]
    }
   ],
   "source": [
    "# write the file \n",
    "t = ds.expand_dims('y').transpose('time','y','x')\n",
    "write_util.write_ncf(t,outname)"
   ]
  },
  {
   "cell_type": "code",
   "execution_count": null,
   "id": "north-roller",
   "metadata": {},
   "outputs": [],
   "source": []
  },
  {
   "cell_type": "code",
   "execution_count": null,
   "id": "2e7004ca-dbe3-49a0-a220-5d5c85bbd6ff",
   "metadata": {},
   "outputs": [],
   "source": []
  },
  {
   "cell_type": "code",
   "execution_count": null,
   "id": "61226573",
   "metadata": {},
   "outputs": [],
   "source": []
  }
 ],
 "metadata": {
  "kernelspec": {
   "display_name": "dev_monet",
   "language": "python",
   "name": "develop_monet"
  },
  "language_info": {
   "codemirror_mode": {
    "name": "ipython",
    "version": 3
   },
   "file_extension": ".py",
   "mimetype": "text/x-python",
   "name": "python",
   "nbconvert_exporter": "python",
   "pygments_lexer": "ipython3",
   "version": "3.9.12"
  }
 },
 "nbformat": 4,
 "nbformat_minor": 5
}
